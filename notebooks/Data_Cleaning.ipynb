{
 "cells": [
  {
   "cell_type": "markdown",
   "metadata": {},
   "source": [
    "Data Cleaning "
   ]
  },
  {
   "cell_type": "code",
   "execution_count": 1,
   "metadata": {},
   "outputs": [],
   "source": [
    "import pandas as pd\n",
    "from sqlalchemy import create_engine\n"
   ]
  },
  {
   "cell_type": "markdown",
   "metadata": {},
   "source": [
    "Read Data into Dataframe "
   ]
  },
  {
   "cell_type": "code",
   "execution_count": 8,
   "metadata": {},
   "outputs": [],
   "source": [
    "database_name = 'telecom_analysis'\n",
    "table_name= 'xdr_data'\n",
    "connection_params = { \"host\": \"localhost\", \"user\": \"postgres\", \"password\": \"123\",\n",
    "\"port\": \"5432\", \"database\": database_name}\n",
    "engine =create_engine(f\"postgresql+psycopg2://{connection_params['user']}:{connection_params['password']}@{connection_params['host']}:{connection_params['port']}/{connection_params['database']}\")\n",
    "# str or SQLAlchemy Selectable (select or text object)\n",
    "sql_query = 'SELECT * FROM xdr_data'\n",
    "telecom_df = pd.read_sql(sql_query, con= engine)"
   ]
  },
  {
   "cell_type": "code",
   "execution_count": 11,
   "metadata": {},
   "outputs": [
    {
     "data": {
      "text/plain": [
       "Bearer Id                                   149010\n",
       "Start                                       150000\n",
       "Start ms                                    150000\n",
       "End                                         150000\n",
       "End ms                                      150000\n",
       "Dur. (ms)                                   150000\n",
       "IMSI                                        149431\n",
       "MSISDN/Number                               148935\n",
       "IMEI                                        149429\n",
       "Last Location Name                          148848\n",
       "Avg RTT DL (ms)                             122172\n",
       "Avg RTT UL (ms)                             122189\n",
       "Avg Bearer TP DL (kbps)                     150000\n",
       "Avg Bearer TP UL (kbps)                     150000\n",
       "TCP DL Retrans. Vol (Bytes)                  61855\n",
       "TCP UL Retrans. Vol (Bytes)                  53352\n",
       "DL TP < 50 Kbps (%)                         149247\n",
       "50 Kbps < DL TP < 250 Kbps (%)              149247\n",
       "250 Kbps < DL TP < 1 Mbps (%)               149247\n",
       "DL TP > 1 Mbps (%)                          149247\n",
       "UL TP < 10 Kbps (%)                         149209\n",
       "10 Kbps < UL TP < 50 Kbps (%)               149209\n",
       "50 Kbps < UL TP < 300 Kbps (%)              149209\n",
       "UL TP > 300 Kbps (%)                        149209\n",
       "HTTP DL (Bytes)                              68527\n",
       "HTTP UL (Bytes)                              68191\n",
       "Activity Duration DL (ms)                   150000\n",
       "Activity Duration UL (ms)                   150000\n",
       "Dur. (ms).1                                 150000\n",
       "Handset Manufacturer                        149429\n",
       "Handset Type                                149429\n",
       "Nb of sec with 125000B < Vol DL              52463\n",
       "Nb of sec with 1250B < Vol UL < 6250B        57107\n",
       "Nb of sec with 31250B < Vol DL < 125000B     56415\n",
       "Nb of sec with 37500B < Vol UL               19747\n",
       "Nb of sec with 6250B < Vol DL < 31250B       61684\n",
       "Nb of sec with 6250B < Vol UL < 37500B       38158\n",
       "Nb of sec with Vol DL < 6250B               149246\n",
       "Nb of sec with Vol UL < 1250B               149208\n",
       "Social Media DL (Bytes)                     150001\n",
       "Social Media UL (Bytes)                     150001\n",
       "Google DL (Bytes)                           150001\n",
       "Google UL (Bytes)                           150001\n",
       "Email DL (Bytes)                            150001\n",
       "Email UL (Bytes)                            150001\n",
       "Youtube DL (Bytes)                          150001\n",
       "Youtube UL (Bytes)                          150001\n",
       "Netflix DL (Bytes)                          150001\n",
       "Netflix UL (Bytes)                          150001\n",
       "Gaming DL (Bytes)                           150001\n",
       "Gaming UL (Bytes)                           150001\n",
       "Other DL (Bytes)                            150001\n",
       "Other UL (Bytes)                            150001\n",
       "Total UL (Bytes)                            150000\n",
       "Total DL (Bytes)                            150000\n",
       "dtype: int64"
      ]
     },
     "execution_count": 11,
     "metadata": {},
     "output_type": "execute_result"
    }
   ],
   "source": [
    "telecom_df.count()"
   ]
  }
 ],
 "metadata": {
  "kernelspec": {
   "display_name": "my_env",
   "language": "python",
   "name": "python3"
  },
  "language_info": {
   "codemirror_mode": {
    "name": "ipython",
    "version": 3
   },
   "file_extension": ".py",
   "mimetype": "text/x-python",
   "name": "python",
   "nbconvert_exporter": "python",
   "pygments_lexer": "ipython3",
   "version": "3.10.12"
  }
 },
 "nbformat": 4,
 "nbformat_minor": 2
}
