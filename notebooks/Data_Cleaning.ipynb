{
 "cells": [
  {
   "cell_type": "markdown",
   "metadata": {},
   "source": [
    "Data Cleaning "
   ]
  },
  {
   "cell_type": "code",
   "execution_count": 1,
   "metadata": {},
   "outputs": [],
   "source": [
    "import pandas as pd\n",
    "import numpy as np\n",
    "import seaborn as sns\n",
    "from sqlalchemy import create_engine\n",
    "import sys\n",
    "sys.path.append(\"../scripts/\")\n",
    "from clean_data import DataCleaner\n",
    "cleaner=DataCleaner()\n"
   ]
  },
  {
   "cell_type": "code",
   "execution_count": 2,
   "metadata": {},
   "outputs": [],
   "source": [
    "import warnings\n",
    "warnings.filterwarnings('ignore')\n"
   ]
  },
  {
   "cell_type": "markdown",
   "metadata": {},
   "source": [
    "### Read Data into Dataframe "
   ]
  },
  {
   "cell_type": "code",
   "execution_count": 3,
   "metadata": {},
   "outputs": [],
   "source": [
    "import pandas as pd\n",
    "from sqlalchemy import create_engine\n",
    "database_name = 'telecom_analysis'\n",
    "table_name= 'xdr_data'\n",
    "connection_params = { \"host\": \"localhost\", \"user\": \"postgres\", \"password\": \"123\",\n",
    "\"port\": \"5432\", \"database\": database_name}\n",
    "engine = create_engine(f\"postgresql+psycopg2://{connection_params['user']}:{connection_params['password']}@{connection_params['host']}:{connection_params['port']}/{connection_params['database']}\")\n",
    "# str or SQLAlchemy Selectable (select or text object)\n",
    "missing_values = [\"n/a\", \"na\", \"--\"]\n",
    "sql_query = 'SELECT * FROM xdr_data'\n",
    "\n",
    "telecom_df = pd.read_sql(sql_query, con= engine)\n",
    "telecom_df.replace(missing_values, np.nan, inplace=True)\n",
    "\n",
    "\n",
    "\n"
   ]
  },
  {
   "cell_type": "code",
   "execution_count": null,
   "metadata": {},
   "outputs": [],
   "source": []
  },
  {
   "cell_type": "code",
   "execution_count": 4,
   "metadata": {},
   "outputs": [
    {
     "data": {
      "text/html": [
       "<div>\n",
       "<style scoped>\n",
       "    .dataframe tbody tr th:only-of-type {\n",
       "        vertical-align: middle;\n",
       "    }\n",
       "\n",
       "    .dataframe tbody tr th {\n",
       "        vertical-align: top;\n",
       "    }\n",
       "\n",
       "    .dataframe thead th {\n",
       "        text-align: right;\n",
       "    }\n",
       "</style>\n",
       "<table border=\"1\" class=\"dataframe\">\n",
       "  <thead>\n",
       "    <tr style=\"text-align: right;\">\n",
       "      <th></th>\n",
       "      <th>Bearer Id</th>\n",
       "      <th>Start</th>\n",
       "      <th>Start ms</th>\n",
       "      <th>End</th>\n",
       "      <th>End ms</th>\n",
       "      <th>Dur. (ms)</th>\n",
       "      <th>IMSI</th>\n",
       "      <th>MSISDN/Number</th>\n",
       "      <th>IMEI</th>\n",
       "      <th>Last Location Name</th>\n",
       "      <th>...</th>\n",
       "      <th>Youtube DL (Bytes)</th>\n",
       "      <th>Youtube UL (Bytes)</th>\n",
       "      <th>Netflix DL (Bytes)</th>\n",
       "      <th>Netflix UL (Bytes)</th>\n",
       "      <th>Gaming DL (Bytes)</th>\n",
       "      <th>Gaming UL (Bytes)</th>\n",
       "      <th>Other DL (Bytes)</th>\n",
       "      <th>Other UL (Bytes)</th>\n",
       "      <th>Total UL (Bytes)</th>\n",
       "      <th>Total DL (Bytes)</th>\n",
       "    </tr>\n",
       "  </thead>\n",
       "  <tbody>\n",
       "    <tr>\n",
       "      <th>0</th>\n",
       "      <td>13,114,483,460,844,900,352.00</td>\n",
       "      <td>4/4/2019 12:01</td>\n",
       "      <td>770.00</td>\n",
       "      <td>4/25/2019 14:35</td>\n",
       "      <td>662.00</td>\n",
       "      <td>1,823,652.00</td>\n",
       "      <td>208,201,448,079,117.00</td>\n",
       "      <td>33,664,962,239.00</td>\n",
       "      <td>35,521,209,507,511.00</td>\n",
       "      <td>9.16456699548519E+015</td>\n",
       "      <td>...</td>\n",
       "      <td>15,854,611.00</td>\n",
       "      <td>2,501,332.00</td>\n",
       "      <td>8,198,936.00</td>\n",
       "      <td>9,656,251.00</td>\n",
       "      <td>278,082,303.00</td>\n",
       "      <td>14,344,150.00</td>\n",
       "      <td>171,744,450.00</td>\n",
       "      <td>8,814,393.00</td>\n",
       "      <td>36,749,741.00</td>\n",
       "      <td>308,879,636.00</td>\n",
       "    </tr>\n",
       "    <tr>\n",
       "      <th>1</th>\n",
       "      <td>13,114,483,482,878,900,224.00</td>\n",
       "      <td>4/9/2019 13:04</td>\n",
       "      <td>235.00</td>\n",
       "      <td>4/25/2019 8:15</td>\n",
       "      <td>606.00</td>\n",
       "      <td>1,365,104.00</td>\n",
       "      <td>208,201,909,211,140.00</td>\n",
       "      <td>33,681,854,413.00</td>\n",
       "      <td>35,794,009,006,359.00</td>\n",
       "      <td>L77566A</td>\n",
       "      <td>...</td>\n",
       "      <td>20,247,395.00</td>\n",
       "      <td>19,111,729.00</td>\n",
       "      <td>18,338,413.00</td>\n",
       "      <td>17,227,132.00</td>\n",
       "      <td>608,750,074.00</td>\n",
       "      <td>1,170,709.00</td>\n",
       "      <td>526,904,238.00</td>\n",
       "      <td>15,055,145.00</td>\n",
       "      <td>53,800,391.00</td>\n",
       "      <td>653,384,965.00</td>\n",
       "    </tr>\n",
       "    <tr>\n",
       "      <th>2</th>\n",
       "      <td>13,114,483,484,080,500,736.00</td>\n",
       "      <td>4/9/2019 17:42</td>\n",
       "      <td>1.00</td>\n",
       "      <td>4/25/2019 11:58</td>\n",
       "      <td>652.00</td>\n",
       "      <td>1,361,762.00</td>\n",
       "      <td>208,200,314,458,056.00</td>\n",
       "      <td>33,760,627,129.00</td>\n",
       "      <td>35,281,510,359,387.00</td>\n",
       "      <td>D42335A</td>\n",
       "      <td>...</td>\n",
       "      <td>19,725,661.00</td>\n",
       "      <td>14,699,576.00</td>\n",
       "      <td>17,587,794.00</td>\n",
       "      <td>6,163,408.00</td>\n",
       "      <td>229,584,621.00</td>\n",
       "      <td>395,630.00</td>\n",
       "      <td>410,692,588.00</td>\n",
       "      <td>4,215,763.00</td>\n",
       "      <td>27,883,638.00</td>\n",
       "      <td>279,807,335.00</td>\n",
       "    </tr>\n",
       "    <tr>\n",
       "      <th>3</th>\n",
       "      <td>13,114,483,485,442,799,616.00</td>\n",
       "      <td>4/10/2019 0:31</td>\n",
       "      <td>486.00</td>\n",
       "      <td>4/25/2019 7:36</td>\n",
       "      <td>171.00</td>\n",
       "      <td>1,321,509.00</td>\n",
       "      <td>208,201,402,342,131.00</td>\n",
       "      <td>33,750,343,200.00</td>\n",
       "      <td>35,356,610,164,913.00</td>\n",
       "      <td>T21824A</td>\n",
       "      <td>...</td>\n",
       "      <td>21,388,122.00</td>\n",
       "      <td>15,146,643.00</td>\n",
       "      <td>13,994,646.00</td>\n",
       "      <td>1,097,942.00</td>\n",
       "      <td>799,538,153.00</td>\n",
       "      <td>10,849,722.00</td>\n",
       "      <td>749,039,933.00</td>\n",
       "      <td>12,797,283.00</td>\n",
       "      <td>43,324,218.00</td>\n",
       "      <td>846,028,530.00</td>\n",
       "    </tr>\n",
       "    <tr>\n",
       "      <th>4</th>\n",
       "      <td>13,114,483,499,480,700,928.00</td>\n",
       "      <td>4/12/2019 20:10</td>\n",
       "      <td>565.00</td>\n",
       "      <td>4/25/2019 10:40</td>\n",
       "      <td>954.00</td>\n",
       "      <td>1,089,009.00</td>\n",
       "      <td>208,201,401,415,120.00</td>\n",
       "      <td>33,699,795,932.00</td>\n",
       "      <td>35,407,009,745,539.00</td>\n",
       "      <td>D88865A</td>\n",
       "      <td>...</td>\n",
       "      <td>15,259,380.00</td>\n",
       "      <td>18,962,873.00</td>\n",
       "      <td>17,124,581.00</td>\n",
       "      <td>415,218.00</td>\n",
       "      <td>527,707,248.00</td>\n",
       "      <td>3,529,801.00</td>\n",
       "      <td>550,709,500.00</td>\n",
       "      <td>13,910,322.00</td>\n",
       "      <td>38,542,814.00</td>\n",
       "      <td>569,138,589.00</td>\n",
       "    </tr>\n",
       "  </tbody>\n",
       "</table>\n",
       "<p>5 rows × 55 columns</p>\n",
       "</div>"
      ],
      "text/plain": [
       "                      Bearer Id            Start  Start ms              End  \\\n",
       "0 13,114,483,460,844,900,352.00   4/4/2019 12:01    770.00  4/25/2019 14:35   \n",
       "1 13,114,483,482,878,900,224.00   4/9/2019 13:04    235.00   4/25/2019 8:15   \n",
       "2 13,114,483,484,080,500,736.00   4/9/2019 17:42      1.00  4/25/2019 11:58   \n",
       "3 13,114,483,485,442,799,616.00   4/10/2019 0:31    486.00   4/25/2019 7:36   \n",
       "4 13,114,483,499,480,700,928.00  4/12/2019 20:10    565.00  4/25/2019 10:40   \n",
       "\n",
       "   End ms    Dur. (ms)                   IMSI     MSISDN/Number  \\\n",
       "0  662.00 1,823,652.00 208,201,448,079,117.00 33,664,962,239.00   \n",
       "1  606.00 1,365,104.00 208,201,909,211,140.00 33,681,854,413.00   \n",
       "2  652.00 1,361,762.00 208,200,314,458,056.00 33,760,627,129.00   \n",
       "3  171.00 1,321,509.00 208,201,402,342,131.00 33,750,343,200.00   \n",
       "4  954.00 1,089,009.00 208,201,401,415,120.00 33,699,795,932.00   \n",
       "\n",
       "                   IMEI     Last Location Name  ...  Youtube DL (Bytes)  \\\n",
       "0 35,521,209,507,511.00  9.16456699548519E+015  ...       15,854,611.00   \n",
       "1 35,794,009,006,359.00                L77566A  ...       20,247,395.00   \n",
       "2 35,281,510,359,387.00                D42335A  ...       19,725,661.00   \n",
       "3 35,356,610,164,913.00                T21824A  ...       21,388,122.00   \n",
       "4 35,407,009,745,539.00                D88865A  ...       15,259,380.00   \n",
       "\n",
       "   Youtube UL (Bytes)  Netflix DL (Bytes)  Netflix UL (Bytes)  \\\n",
       "0        2,501,332.00        8,198,936.00        9,656,251.00   \n",
       "1       19,111,729.00       18,338,413.00       17,227,132.00   \n",
       "2       14,699,576.00       17,587,794.00        6,163,408.00   \n",
       "3       15,146,643.00       13,994,646.00        1,097,942.00   \n",
       "4       18,962,873.00       17,124,581.00          415,218.00   \n",
       "\n",
       "   Gaming DL (Bytes)  Gaming UL (Bytes)  Other DL (Bytes)  Other UL (Bytes)  \\\n",
       "0     278,082,303.00      14,344,150.00    171,744,450.00      8,814,393.00   \n",
       "1     608,750,074.00       1,170,709.00    526,904,238.00     15,055,145.00   \n",
       "2     229,584,621.00         395,630.00    410,692,588.00      4,215,763.00   \n",
       "3     799,538,153.00      10,849,722.00    749,039,933.00     12,797,283.00   \n",
       "4     527,707,248.00       3,529,801.00    550,709,500.00     13,910,322.00   \n",
       "\n",
       "   Total UL (Bytes)  Total DL (Bytes)  \n",
       "0     36,749,741.00    308,879,636.00  \n",
       "1     53,800,391.00    653,384,965.00  \n",
       "2     27,883,638.00    279,807,335.00  \n",
       "3     43,324,218.00    846,028,530.00  \n",
       "4     38,542,814.00    569,138,589.00  \n",
       "\n",
       "[5 rows x 55 columns]"
      ]
     },
     "execution_count": 4,
     "metadata": {},
     "output_type": "execute_result"
    }
   ],
   "source": [
    "telecom_df.head() "
   ]
  },
  {
   "cell_type": "code",
   "execution_count": 5,
   "metadata": {},
   "outputs": [
    {
     "data": {
      "text/plain": [
       "['Bearer Id',\n",
       " 'Start',\n",
       " 'Start ms',\n",
       " 'End',\n",
       " 'End ms',\n",
       " 'Dur. (ms)',\n",
       " 'IMSI',\n",
       " 'MSISDN/Number',\n",
       " 'IMEI',\n",
       " 'Last Location Name',\n",
       " 'Avg RTT DL (ms)',\n",
       " 'Avg RTT UL (ms)',\n",
       " 'Avg Bearer TP DL (kbps)',\n",
       " 'Avg Bearer TP UL (kbps)',\n",
       " 'TCP DL Retrans. Vol (Bytes)',\n",
       " 'TCP UL Retrans. Vol (Bytes)',\n",
       " 'DL TP < 50 Kbps (%)',\n",
       " '50 Kbps < DL TP < 250 Kbps (%)',\n",
       " '250 Kbps < DL TP < 1 Mbps (%)',\n",
       " 'DL TP > 1 Mbps (%)',\n",
       " 'UL TP < 10 Kbps (%)',\n",
       " '10 Kbps < UL TP < 50 Kbps (%)',\n",
       " '50 Kbps < UL TP < 300 Kbps (%)',\n",
       " 'UL TP > 300 Kbps (%)',\n",
       " 'HTTP DL (Bytes)',\n",
       " 'HTTP UL (Bytes)',\n",
       " 'Activity Duration DL (ms)',\n",
       " 'Activity Duration UL (ms)',\n",
       " 'Dur. (ms).1',\n",
       " 'Handset Manufacturer',\n",
       " 'Handset Type',\n",
       " 'Nb of sec with 125000B < Vol DL',\n",
       " 'Nb of sec with 1250B < Vol UL < 6250B',\n",
       " 'Nb of sec with 31250B < Vol DL < 125000B',\n",
       " 'Nb of sec with 37500B < Vol UL',\n",
       " 'Nb of sec with 6250B < Vol DL < 31250B',\n",
       " 'Nb of sec with 6250B < Vol UL < 37500B',\n",
       " 'Nb of sec with Vol DL < 6250B',\n",
       " 'Nb of sec with Vol UL < 1250B',\n",
       " 'Social Media DL (Bytes)',\n",
       " 'Social Media UL (Bytes)',\n",
       " 'Google DL (Bytes)',\n",
       " 'Google UL (Bytes)',\n",
       " 'Email DL (Bytes)',\n",
       " 'Email UL (Bytes)',\n",
       " 'Youtube DL (Bytes)',\n",
       " 'Youtube UL (Bytes)',\n",
       " 'Netflix DL (Bytes)',\n",
       " 'Netflix UL (Bytes)',\n",
       " 'Gaming DL (Bytes)',\n",
       " 'Gaming UL (Bytes)',\n",
       " 'Other DL (Bytes)',\n",
       " 'Other UL (Bytes)',\n",
       " 'Total UL (Bytes)',\n",
       " 'Total DL (Bytes)']"
      ]
     },
     "execution_count": 5,
     "metadata": {},
     "output_type": "execute_result"
    }
   ],
   "source": [
    "telecom_df.columns.tolist()"
   ]
  },
  {
   "cell_type": "code",
   "execution_count": 6,
   "metadata": {},
   "outputs": [
    {
     "name": "stdout",
     "output_type": "stream",
     "text": [
      "<class 'pandas.core.frame.DataFrame'>\n",
      "RangeIndex: 150001 entries, 0 to 150000\n",
      "Data columns (total 55 columns):\n",
      " #   Column                                    Non-Null Count   Dtype  \n",
      "---  ------                                    --------------   -----  \n",
      " 0   Bearer Id                                 149010 non-null  float64\n",
      " 1   Start                                     150000 non-null  object \n",
      " 2   Start ms                                  150000 non-null  float64\n",
      " 3   End                                       150000 non-null  object \n",
      " 4   End ms                                    150000 non-null  float64\n",
      " 5   Dur. (ms)                                 150000 non-null  float64\n",
      " 6   IMSI                                      149431 non-null  float64\n",
      " 7   MSISDN/Number                             148935 non-null  float64\n",
      " 8   IMEI                                      149429 non-null  float64\n",
      " 9   Last Location Name                        148848 non-null  object \n",
      " 10  Avg RTT DL (ms)                           122172 non-null  float64\n",
      " 11  Avg RTT UL (ms)                           122189 non-null  float64\n",
      " 12  Avg Bearer TP DL (kbps)                   150000 non-null  float64\n",
      " 13  Avg Bearer TP UL (kbps)                   150000 non-null  float64\n",
      " 14  TCP DL Retrans. Vol (Bytes)               61855 non-null   float64\n",
      " 15  TCP UL Retrans. Vol (Bytes)               53352 non-null   float64\n",
      " 16  DL TP < 50 Kbps (%)                       149247 non-null  float64\n",
      " 17  50 Kbps < DL TP < 250 Kbps (%)            149247 non-null  float64\n",
      " 18  250 Kbps < DL TP < 1 Mbps (%)             149247 non-null  float64\n",
      " 19  DL TP > 1 Mbps (%)                        149247 non-null  float64\n",
      " 20  UL TP < 10 Kbps (%)                       149209 non-null  float64\n",
      " 21  10 Kbps < UL TP < 50 Kbps (%)             149209 non-null  float64\n",
      " 22  50 Kbps < UL TP < 300 Kbps (%)            149209 non-null  float64\n",
      " 23  UL TP > 300 Kbps (%)                      149209 non-null  float64\n",
      " 24  HTTP DL (Bytes)                           68527 non-null   float64\n",
      " 25  HTTP UL (Bytes)                           68191 non-null   float64\n",
      " 26  Activity Duration DL (ms)                 150000 non-null  float64\n",
      " 27  Activity Duration UL (ms)                 150000 non-null  float64\n",
      " 28  Dur. (ms).1                               150000 non-null  float64\n",
      " 29  Handset Manufacturer                      149429 non-null  object \n",
      " 30  Handset Type                              149429 non-null  object \n",
      " 31  Nb of sec with 125000B < Vol DL           52463 non-null   float64\n",
      " 32  Nb of sec with 1250B < Vol UL < 6250B     57107 non-null   float64\n",
      " 33  Nb of sec with 31250B < Vol DL < 125000B  56415 non-null   float64\n",
      " 34  Nb of sec with 37500B < Vol UL            19747 non-null   float64\n",
      " 35  Nb of sec with 6250B < Vol DL < 31250B    61684 non-null   float64\n",
      " 36  Nb of sec with 6250B < Vol UL < 37500B    38158 non-null   float64\n",
      " 37  Nb of sec with Vol DL < 6250B             149246 non-null  float64\n",
      " 38  Nb of sec with Vol UL < 1250B             149208 non-null  float64\n",
      " 39  Social Media DL (Bytes)                   150001 non-null  float64\n",
      " 40  Social Media UL (Bytes)                   150001 non-null  float64\n",
      " 41  Google DL (Bytes)                         150001 non-null  float64\n",
      " 42  Google UL (Bytes)                         150001 non-null  float64\n",
      " 43  Email DL (Bytes)                          150001 non-null  float64\n",
      " 44  Email UL (Bytes)                          150001 non-null  float64\n",
      " 45  Youtube DL (Bytes)                        150001 non-null  float64\n",
      " 46  Youtube UL (Bytes)                        150001 non-null  float64\n",
      " 47  Netflix DL (Bytes)                        150001 non-null  float64\n",
      " 48  Netflix UL (Bytes)                        150001 non-null  float64\n",
      " 49  Gaming DL (Bytes)                         150001 non-null  float64\n",
      " 50  Gaming UL (Bytes)                         150001 non-null  float64\n",
      " 51  Other DL (Bytes)                          150001 non-null  float64\n",
      " 52  Other UL (Bytes)                          150001 non-null  float64\n",
      " 53  Total UL (Bytes)                          150000 non-null  float64\n",
      " 54  Total DL (Bytes)                          150000 non-null  float64\n",
      "dtypes: float64(50), object(5)\n",
      "memory usage: 62.9+ MB\n"
     ]
    }
   ],
   "source": [
    "telecom_df.info()"
   ]
  },
  {
   "cell_type": "markdown",
   "metadata": {},
   "source": [
    "### Cleaning Duplicate data and Removing Whitespaces"
   ]
  },
  {
   "cell_type": "code",
   "execution_count": 7,
   "metadata": {},
   "outputs": [
    {
     "data": {
      "text/plain": [
       "Index(['Bearer_Id', 'Start', 'Start_ms', 'End', 'End_ms', 'Dur._(ms)', 'IMSI',\n",
       "       'MSISDN/Number', 'IMEI', 'Last_Location_Name', 'Avg_RTT_DL_(ms)',\n",
       "       'Avg_RTT_UL_(ms)', 'Avg_Bearer_TP_DL_(kbps)', 'Avg_Bearer_TP_UL_(kbps)',\n",
       "       'TCP_DL_Retrans._Vol_(Bytes)', 'TCP_UL_Retrans._Vol_(Bytes)',\n",
       "       'DL_TP_<_50_Kbps_(%)', '50_Kbps_<_DL_TP_<_250_Kbps_(%)',\n",
       "       '250_Kbps_<_DL_TP_<_1_Mbps_(%)', 'DL_TP_>_1_Mbps_(%)',\n",
       "       'UL_TP_<_10_Kbps_(%)', '10_Kbps_<_UL_TP_<_50_Kbps_(%)',\n",
       "       '50_Kbps_<_UL_TP_<_300_Kbps_(%)', 'UL_TP_>_300_Kbps_(%)',\n",
       "       'HTTP_DL_(Bytes)', 'HTTP_UL_(Bytes)', 'Activity_Duration_DL_(ms)',\n",
       "       'Activity_Duration_UL_(ms)', 'Dur._(ms).1', 'Handset_Manufacturer',\n",
       "       'Handset_Type', 'Nb_of_sec_with_125000B_<_Vol_DL',\n",
       "       'Nb_of_sec_with_1250B_<_Vol_UL_<_6250B',\n",
       "       'Nb_of_sec_with_31250B_<_Vol_DL_<_125000B',\n",
       "       'Nb_of_sec_with_37500B_<_Vol_UL',\n",
       "       'Nb_of_sec_with_6250B_<_Vol_DL_<_31250B',\n",
       "       'Nb_of_sec_with_6250B_<_Vol_UL_<_37500B',\n",
       "       'Nb_of_sec_with_Vol_DL_<_6250B', 'Nb_of_sec_with_Vol_UL_<_1250B',\n",
       "       'Social_Media_DL_(Bytes)', 'Social_Media_UL_(Bytes)',\n",
       "       'Google_DL_(Bytes)', 'Google_UL_(Bytes)', 'Email_DL_(Bytes)',\n",
       "       'Email_UL_(Bytes)', 'Youtube_DL_(Bytes)', 'Youtube_UL_(Bytes)',\n",
       "       'Netflix_DL_(Bytes)', 'Netflix_UL_(Bytes)', 'Gaming_DL_(Bytes)',\n",
       "       'Gaming_UL_(Bytes)', 'Other_DL_(Bytes)', 'Other_UL_(Bytes)',\n",
       "       'Total_UL_(Bytes)', 'Total_DL_(Bytes)'],\n",
       "      dtype='object')"
      ]
     },
     "execution_count": 7,
     "metadata": {},
     "output_type": "execute_result"
    }
   ],
   "source": [
    "telecom_df = cleaner.drop_duplicate(telecom_df)\n",
    "telecom_df = cleaner.remove_whitespace_column(telecom_df)\n",
    "telecom_df.columns"
   ]
  },
  {
   "cell_type": "markdown",
   "metadata": {},
   "source": [
    "Count, List and Depict Frequency Distribution of Unique Values "
   ]
  },
  {
   "cell_type": "code",
   "execution_count": 8,
   "metadata": {},
   "outputs": [
    {
     "name": "stdout",
     "output_type": "stream",
     "text": [
      "\n",
      "Number of unique values => 54400\n"
     ]
    }
   ],
   "source": [
    "#Count of unique values of a column\n",
    "print('\\nNumber of unique values => ' + str(len(telecom_df['TCP_DL_Retrans._Vol_(Bytes)'].unique())))"
   ]
  },
  {
   "cell_type": "code",
   "execution_count": 9,
   "metadata": {},
   "outputs": [
    {
     "name": "stdout",
     "output_type": "stream",
     "text": [
      "\n",
      "Unique values are => \n",
      "\n",
      "23567               2.00\n",
      "2031                4.00\n",
      "10341               6.00\n",
      "2178                8.00\n",
      "7399               11.00\n",
      "              ...       \n",
      "51132   4,289,487,601.00\n",
      "14595   4,289,876,615.00\n",
      "47489   4,291,380,336.00\n",
      "29343   4,294,425,570.00\n",
      "0                    NaN\n",
      "Length: 54400, dtype: float64\n"
     ]
    }
   ],
   "source": [
    "#List of all unique values of a column\n",
    "print('\\nUnique values are => \\n\\n' + str(pd.Series(telecom_df['TCP_DL_Retrans._Vol_(Bytes)'].unique()).sort_values(ascending=True)))"
   ]
  },
  {
   "cell_type": "code",
   "execution_count": 10,
   "metadata": {},
   "outputs": [
    {
     "name": "stdout",
     "output_type": "stream",
     "text": [
      "\n",
      "Frequency distribution of unique values => \n",
      "\n",
      "TCP_DL_Retrans._Vol_(Bytes)\n",
      "NaN              88146\n",
      "1,330.00           433\n",
      "2,660.00           219\n",
      "38.00              200\n",
      "92.00              192\n",
      "                 ...  \n",
      "6,424,413.00         1\n",
      "9,168.00             1\n",
      "5,237,705.00         1\n",
      "10,698,305.00        1\n",
      "16,552,848.00        1\n",
      "Name: count, Length: 54400, dtype: int64\n"
     ]
    }
   ],
   "source": [
    "#Frequency Distribution of unique values of a column\n",
    "print('\\nFrequency distribution of unique values => \\n\\n'+ str(telecom_df['TCP_DL_Retrans._Vol_(Bytes)'].value_counts(dropna=False).sort_values(ascending = False)))"
   ]
  },
  {
   "cell_type": "markdown",
   "metadata": {},
   "source": [
    "### Number of Columns and Rows"
   ]
  },
  {
   "cell_type": "code",
   "execution_count": 11,
   "metadata": {},
   "outputs": [
    {
     "name": "stdout",
     "output_type": "stream",
     "text": [
      " There are 150001 rows and 55 columns\n"
     ]
    }
   ],
   "source": [
    "print(f\" There are {telecom_df.shape[0]} rows and {telecom_df.shape[1]} columns\")"
   ]
  },
  {
   "cell_type": "markdown",
   "metadata": {},
   "source": [
    "### Changing Datatypes as Necessary "
   ]
  },
  {
   "cell_type": "code",
   "execution_count": 12,
   "metadata": {},
   "outputs": [
    {
     "name": "stdout",
     "output_type": "stream",
     "text": [
      "<class 'pandas.core.frame.DataFrame'>\n",
      "RangeIndex: 150001 entries, 0 to 150000\n",
      "Data columns (total 55 columns):\n",
      " #   Column                                    Non-Null Count   Dtype         \n",
      "---  ------                                    --------------   -----         \n",
      " 0   Bearer_Id                                 150001 non-null  object        \n",
      " 1   Start                                     150000 non-null  datetime64[ns]\n",
      " 2   Start_ms                                  150000 non-null  float64       \n",
      " 3   End                                       150000 non-null  datetime64[ns]\n",
      " 4   End_ms                                    150000 non-null  float64       \n",
      " 5   Dur._(ms)                                 150000 non-null  float64       \n",
      " 6   IMSI                                      150001 non-null  object        \n",
      " 7   MSISDN/Number                             150001 non-null  object        \n",
      " 8   IMEI                                      150001 non-null  object        \n",
      " 9   Last_Location_Name                        148848 non-null  object        \n",
      " 10  Avg_RTT_DL_(ms)                           122172 non-null  float64       \n",
      " 11  Avg_RTT_UL_(ms)                           122189 non-null  float64       \n",
      " 12  Avg_Bearer_TP_DL_(kbps)                   150000 non-null  float64       \n",
      " 13  Avg_Bearer_TP_UL_(kbps)                   150000 non-null  float64       \n",
      " 14  TCP_DL_Retrans._Vol_(Bytes)               61855 non-null   float64       \n",
      " 15  TCP_UL_Retrans._Vol_(Bytes)               53352 non-null   float64       \n",
      " 16  DL_TP_<_50_Kbps_(%)                       149247 non-null  float64       \n",
      " 17  50_Kbps_<_DL_TP_<_250_Kbps_(%)            149247 non-null  float64       \n",
      " 18  250_Kbps_<_DL_TP_<_1_Mbps_(%)             149247 non-null  float64       \n",
      " 19  DL_TP_>_1_Mbps_(%)                        149247 non-null  float64       \n",
      " 20  UL_TP_<_10_Kbps_(%)                       149209 non-null  float64       \n",
      " 21  10_Kbps_<_UL_TP_<_50_Kbps_(%)             149209 non-null  float64       \n",
      " 22  50_Kbps_<_UL_TP_<_300_Kbps_(%)            149209 non-null  float64       \n",
      " 23  UL_TP_>_300_Kbps_(%)                      149209 non-null  float64       \n",
      " 24  HTTP_DL_(Bytes)                           68527 non-null   float64       \n",
      " 25  HTTP_UL_(Bytes)                           68191 non-null   float64       \n",
      " 26  Activity_Duration_DL_(ms)                 150000 non-null  float64       \n",
      " 27  Activity_Duration_UL_(ms)                 150000 non-null  float64       \n",
      " 28  Dur._(ms).1                               150000 non-null  float64       \n",
      " 29  Handset_Manufacturer                      149429 non-null  object        \n",
      " 30  Handset_Type                              150001 non-null  object        \n",
      " 31  Nb_of_sec_with_125000B_<_Vol_DL           52463 non-null   float64       \n",
      " 32  Nb_of_sec_with_1250B_<_Vol_UL_<_6250B     57107 non-null   float64       \n",
      " 33  Nb_of_sec_with_31250B_<_Vol_DL_<_125000B  56415 non-null   float64       \n",
      " 34  Nb_of_sec_with_37500B_<_Vol_UL            19747 non-null   float64       \n",
      " 35  Nb_of_sec_with_6250B_<_Vol_DL_<_31250B    61684 non-null   float64       \n",
      " 36  Nb_of_sec_with_6250B_<_Vol_UL_<_37500B    38158 non-null   float64       \n",
      " 37  Nb_of_sec_with_Vol_DL_<_6250B             149246 non-null  float64       \n",
      " 38  Nb_of_sec_with_Vol_UL_<_1250B             149208 non-null  float64       \n",
      " 39  Social_Media_DL_(Bytes)                   150001 non-null  float64       \n",
      " 40  Social_Media_UL_(Bytes)                   150001 non-null  float64       \n",
      " 41  Google_DL_(Bytes)                         150001 non-null  float64       \n",
      " 42  Google_UL_(Bytes)                         150001 non-null  float64       \n",
      " 43  Email_DL_(Bytes)                          150001 non-null  float64       \n",
      " 44  Email_UL_(Bytes)                          150001 non-null  float64       \n",
      " 45  Youtube_DL_(Bytes)                        150001 non-null  float64       \n",
      " 46  Youtube_UL_(Bytes)                        150001 non-null  float64       \n",
      " 47  Netflix_DL_(Bytes)                        150001 non-null  float64       \n",
      " 48  Netflix_UL_(Bytes)                        150001 non-null  float64       \n",
      " 49  Gaming_DL_(Bytes)                         150001 non-null  float64       \n",
      " 50  Gaming_UL_(Bytes)                         150001 non-null  float64       \n",
      " 51  Other_DL_(Bytes)                          150001 non-null  float64       \n",
      " 52  Other_UL_(Bytes)                          150001 non-null  float64       \n",
      " 53  Total_UL_(Bytes)                          150000 non-null  float64       \n",
      " 54  Total_DL_(Bytes)                          150000 non-null  float64       \n",
      "dtypes: datetime64[ns](2), float64(46), object(7)\n",
      "memory usage: 62.9+ MB\n"
     ]
    }
   ],
   "source": [
    "# Changing data Types of Start and End to Datetype\n",
    "# Changing datatypes of Bearer ID, IMSI, MSISDN/Number, IMEI and  Handset Type to String \n",
    "telecom_df = cleaner.convert_to_datetime(telecom_df)\n",
    "telecom_df = cleaner.convert_to_string(telecom_df)\n",
    "telecom_df.info()"
   ]
  },
  {
   "cell_type": "markdown",
   "metadata": {},
   "source": [
    "### Dealing with Missing Value"
   ]
  },
  {
   "cell_type": "code",
   "execution_count": 13,
   "metadata": {},
   "outputs": [
    {
     "name": "stdout",
     "output_type": "stream",
     "text": [
      "The dataset contains 12.46 % missing values.\n"
     ]
    }
   ],
   "source": [
    "#Calculate Missing values in the dataset\n",
    "percentage=cleaner.percent_missing(telecom_df)\n",
    "print (\"The dataset contains\", percentage, \"% missing values.\")\n"
   ]
  },
  {
   "cell_type": "code",
   "execution_count": 14,
   "metadata": {},
   "outputs": [
    {
     "data": {
      "text/plain": [
       "Bearer_Id                                        0\n",
       "Start                                            1\n",
       "Start_ms                                         1\n",
       "End                                              1\n",
       "End_ms                                           1\n",
       "Dur._(ms)                                        1\n",
       "IMSI                                             0\n",
       "MSISDN/Number                                    0\n",
       "IMEI                                             0\n",
       "Last_Location_Name                            1153\n",
       "Avg_RTT_DL_(ms)                              27829\n",
       "Avg_RTT_UL_(ms)                              27812\n",
       "Avg_Bearer_TP_DL_(kbps)                          1\n",
       "Avg_Bearer_TP_UL_(kbps)                          1\n",
       "TCP_DL_Retrans._Vol_(Bytes)                  88146\n",
       "TCP_UL_Retrans._Vol_(Bytes)                  96649\n",
       "DL_TP_<_50_Kbps_(%)                            754\n",
       "50_Kbps_<_DL_TP_<_250_Kbps_(%)                 754\n",
       "250_Kbps_<_DL_TP_<_1_Mbps_(%)                  754\n",
       "DL_TP_>_1_Mbps_(%)                             754\n",
       "UL_TP_<_10_Kbps_(%)                            792\n",
       "10_Kbps_<_UL_TP_<_50_Kbps_(%)                  792\n",
       "50_Kbps_<_UL_TP_<_300_Kbps_(%)                 792\n",
       "UL_TP_>_300_Kbps_(%)                           792\n",
       "HTTP_DL_(Bytes)                              81474\n",
       "HTTP_UL_(Bytes)                              81810\n",
       "Activity_Duration_DL_(ms)                        1\n",
       "Activity_Duration_UL_(ms)                        1\n",
       "Dur._(ms).1                                      1\n",
       "Handset_Manufacturer                           572\n",
       "Handset_Type                                     0\n",
       "Nb_of_sec_with_125000B_<_Vol_DL              97538\n",
       "Nb_of_sec_with_1250B_<_Vol_UL_<_6250B        92894\n",
       "Nb_of_sec_with_31250B_<_Vol_DL_<_125000B     93586\n",
       "Nb_of_sec_with_37500B_<_Vol_UL              130254\n",
       "Nb_of_sec_with_6250B_<_Vol_DL_<_31250B       88317\n",
       "Nb_of_sec_with_6250B_<_Vol_UL_<_37500B      111843\n",
       "Nb_of_sec_with_Vol_DL_<_6250B                  755\n",
       "Nb_of_sec_with_Vol_UL_<_1250B                  793\n",
       "Social_Media_DL_(Bytes)                          0\n",
       "Social_Media_UL_(Bytes)                          0\n",
       "Google_DL_(Bytes)                                0\n",
       "Google_UL_(Bytes)                                0\n",
       "Email_DL_(Bytes)                                 0\n",
       "Email_UL_(Bytes)                                 0\n",
       "Youtube_DL_(Bytes)                               0\n",
       "Youtube_UL_(Bytes)                               0\n",
       "Netflix_DL_(Bytes)                               0\n",
       "Netflix_UL_(Bytes)                               0\n",
       "Gaming_DL_(Bytes)                                0\n",
       "Gaming_UL_(Bytes)                                0\n",
       "Other_DL_(Bytes)                                 0\n",
       "Other_UL_(Bytes)                                 0\n",
       "Total_UL_(Bytes)                                 1\n",
       "Total_DL_(Bytes)                                 1\n",
       "dtype: int64"
      ]
     },
     "execution_count": 14,
     "metadata": {},
     "output_type": "execute_result"
    }
   ],
   "source": [
    "telecom_df.isna().sum()"
   ]
  },
  {
   "cell_type": "code",
   "execution_count": 15,
   "metadata": {},
   "outputs": [
    {
     "name": "stdout",
     "output_type": "stream",
     "text": [
      "<class 'pandas.core.frame.DataFrame'>\n",
      "RangeIndex: 150001 entries, 0 to 150000\n",
      "Data columns (total 55 columns):\n",
      " #   Column                                    Non-Null Count   Dtype         \n",
      "---  ------                                    --------------   -----         \n",
      " 0   Bearer_Id                                 150001 non-null  object        \n",
      " 1   Start                                     150000 non-null  datetime64[ns]\n",
      " 2   Start_ms                                  150000 non-null  float64       \n",
      " 3   End                                       150000 non-null  datetime64[ns]\n",
      " 4   End_ms                                    150000 non-null  float64       \n",
      " 5   Dur._(ms)                                 150000 non-null  float64       \n",
      " 6   IMSI                                      150001 non-null  object        \n",
      " 7   MSISDN/Number                             150001 non-null  object        \n",
      " 8   IMEI                                      150001 non-null  object        \n",
      " 9   Last_Location_Name                        148848 non-null  object        \n",
      " 10  Avg_RTT_DL_(ms)                           122172 non-null  float64       \n",
      " 11  Avg_RTT_UL_(ms)                           122189 non-null  float64       \n",
      " 12  Avg_Bearer_TP_DL_(kbps)                   150000 non-null  float64       \n",
      " 13  Avg_Bearer_TP_UL_(kbps)                   150000 non-null  float64       \n",
      " 14  TCP_DL_Retrans._Vol_(Bytes)               61855 non-null   float64       \n",
      " 15  TCP_UL_Retrans._Vol_(Bytes)               53352 non-null   float64       \n",
      " 16  DL_TP_<_50_Kbps_(%)                       149247 non-null  float64       \n",
      " 17  50_Kbps_<_DL_TP_<_250_Kbps_(%)            149247 non-null  float64       \n",
      " 18  250_Kbps_<_DL_TP_<_1_Mbps_(%)             149247 non-null  float64       \n",
      " 19  DL_TP_>_1_Mbps_(%)                        149247 non-null  float64       \n",
      " 20  UL_TP_<_10_Kbps_(%)                       149209 non-null  float64       \n",
      " 21  10_Kbps_<_UL_TP_<_50_Kbps_(%)             149209 non-null  float64       \n",
      " 22  50_Kbps_<_UL_TP_<_300_Kbps_(%)            149209 non-null  float64       \n",
      " 23  UL_TP_>_300_Kbps_(%)                      149209 non-null  float64       \n",
      " 24  HTTP_DL_(Bytes)                           68527 non-null   float64       \n",
      " 25  HTTP_UL_(Bytes)                           68191 non-null   float64       \n",
      " 26  Activity_Duration_DL_(ms)                 150000 non-null  float64       \n",
      " 27  Activity_Duration_UL_(ms)                 150000 non-null  float64       \n",
      " 28  Dur._(ms).1                               150000 non-null  float64       \n",
      " 29  Handset_Manufacturer                      149429 non-null  object        \n",
      " 30  Handset_Type                              150001 non-null  object        \n",
      " 31  Nb_of_sec_with_125000B_<_Vol_DL           52463 non-null   float64       \n",
      " 32  Nb_of_sec_with_1250B_<_Vol_UL_<_6250B     57107 non-null   float64       \n",
      " 33  Nb_of_sec_with_31250B_<_Vol_DL_<_125000B  56415 non-null   float64       \n",
      " 34  Nb_of_sec_with_37500B_<_Vol_UL            19747 non-null   float64       \n",
      " 35  Nb_of_sec_with_6250B_<_Vol_DL_<_31250B    61684 non-null   float64       \n",
      " 36  Nb_of_sec_with_6250B_<_Vol_UL_<_37500B    38158 non-null   float64       \n",
      " 37  Nb_of_sec_with_Vol_DL_<_6250B             149246 non-null  float64       \n",
      " 38  Nb_of_sec_with_Vol_UL_<_1250B             149208 non-null  float64       \n",
      " 39  Social_Media_DL_(Bytes)                   150001 non-null  float64       \n",
      " 40  Social_Media_UL_(Bytes)                   150001 non-null  float64       \n",
      " 41  Google_DL_(Bytes)                         150001 non-null  float64       \n",
      " 42  Google_UL_(Bytes)                         150001 non-null  float64       \n",
      " 43  Email_DL_(Bytes)                          150001 non-null  float64       \n",
      " 44  Email_UL_(Bytes)                          150001 non-null  float64       \n",
      " 45  Youtube_DL_(Bytes)                        150001 non-null  float64       \n",
      " 46  Youtube_UL_(Bytes)                        150001 non-null  float64       \n",
      " 47  Netflix_DL_(Bytes)                        150001 non-null  float64       \n",
      " 48  Netflix_UL_(Bytes)                        150001 non-null  float64       \n",
      " 49  Gaming_DL_(Bytes)                         150001 non-null  float64       \n",
      " 50  Gaming_UL_(Bytes)                         150001 non-null  float64       \n",
      " 51  Other_DL_(Bytes)                          150001 non-null  float64       \n",
      " 52  Other_UL_(Bytes)                          150001 non-null  float64       \n",
      " 53  Total_UL_(Bytes)                          150000 non-null  float64       \n",
      " 54  Total_DL_(Bytes)                          150000 non-null  float64       \n",
      "dtypes: datetime64[ns](2), float64(46), object(7)\n",
      "memory usage: 62.9+ MB\n"
     ]
    }
   ],
   "source": [
    "telecom_df.info()"
   ]
  },
  {
   "cell_type": "markdown",
   "metadata": {},
   "source": [
    "### Categorize Numerical and Categorical Columns"
   ]
  },
  {
   "cell_type": "code",
   "execution_count": 16,
   "metadata": {},
   "outputs": [],
   "source": [
    "numeric_columns = telecom_df.select_dtypes(include=['number']).columns.to_list()\n",
    "categorical_columns = telecom_df.select_dtypes(include=['object','datetime64[ns]']).columns.to_list()\n"
   ]
  },
  {
   "cell_type": "markdown",
   "metadata": {},
   "source": [
    "Skew Calculation for Numeric Columns"
   ]
  },
  {
   "cell_type": "code",
   "execution_count": 17,
   "metadata": {},
   "outputs": [
    {
     "data": {
      "text/plain": [
       "Start_ms                                    0.00\n",
       "End_ms                                     -0.00\n",
       "Dur._(ms)                                   3.95\n",
       "Avg_RTT_DL_(ms)                            62.91\n",
       "Avg_RTT_UL_(ms)                            28.46\n",
       "Avg_Bearer_TP_DL_(kbps)                     2.59\n",
       "Avg_Bearer_TP_UL_(kbps)                     4.50\n",
       "TCP_DL_Retrans._Vol_(Bytes)                15.95\n",
       "TCP_UL_Retrans._Vol_(Bytes)                84.11\n",
       "DL_TP_<_50_Kbps_(%)                        -2.30\n",
       "50_Kbps_<_DL_TP_<_250_Kbps_(%)              3.27\n",
       "250_Kbps_<_DL_TP_<_1_Mbps_(%)               4.57\n",
       "DL_TP_>_1_Mbps_(%)                          5.37\n",
       "UL_TP_<_10_Kbps_(%)                        -8.99\n",
       "10_Kbps_<_UL_TP_<_50_Kbps_(%)              10.94\n",
       "50_Kbps_<_UL_TP_<_300_Kbps_(%)             21.88\n",
       "UL_TP_>_300_Kbps_(%)                       36.17\n",
       "HTTP_DL_(Bytes)                            38.94\n",
       "HTTP_UL_(Bytes)                            32.47\n",
       "Activity_Duration_DL_(ms)                   5.87\n",
       "Activity_Duration_UL_(ms)                   7.38\n",
       "Dur._(ms).1                                 3.95\n",
       "Nb_of_sec_with_125000B_<_Vol_DL             6.59\n",
       "Nb_of_sec_with_1250B_<_Vol_UL_<_6250B      22.04\n",
       "Nb_of_sec_with_31250B_<_Vol_DL_<_125000B    6.61\n",
       "Nb_of_sec_with_37500B_<_Vol_UL             21.56\n",
       "Nb_of_sec_with_6250B_<_Vol_DL_<_31250B      6.90\n",
       "Nb_of_sec_with_6250B_<_Vol_UL_<_37500B     19.64\n",
       "Nb_of_sec_with_Vol_DL_<_6250B               9.04\n",
       "Nb_of_sec_with_Vol_UL_<_1250B               7.50\n",
       "Social_Media_DL_(Bytes)                    -0.00\n",
       "Social_Media_UL_(Bytes)                    -0.00\n",
       "Google_DL_(Bytes)                          -0.01\n",
       "Google_UL_(Bytes)                           0.00\n",
       "Email_DL_(Bytes)                           -0.00\n",
       "Email_UL_(Bytes)                            0.01\n",
       "Youtube_DL_(Bytes)                          0.00\n",
       "Youtube_UL_(Bytes)                         -0.00\n",
       "Netflix_DL_(Bytes)                         -0.00\n",
       "Netflix_UL_(Bytes)                         -0.00\n",
       "Gaming_DL_(Bytes)                          -0.00\n",
       "Gaming_UL_(Bytes)                          -0.00\n",
       "Other_DL_(Bytes)                            0.00\n",
       "Other_UL_(Bytes)                            0.00\n",
       "Total_UL_(Bytes)                           -0.00\n",
       "Total_DL_(Bytes)                           -0.00\n",
       "dtype: float64"
      ]
     },
     "execution_count": 17,
     "metadata": {},
     "output_type": "execute_result"
    }
   ],
   "source": [
    "telecom_df[numeric_columns].skew(axis=0, skipna=True)"
   ]
  },
  {
   "cell_type": "code",
   "execution_count": 18,
   "metadata": {},
   "outputs": [
    {
     "data": {
      "text/plain": [
       "<Axes: xlabel='Start_ms', ylabel='Density'>"
      ]
     },
     "execution_count": 18,
     "metadata": {},
     "output_type": "execute_result"
    },
    {
     "data": {
      "image/png": "[encoded data removed]",
      "text/plain": [
       "<Figure size 640x480 with 1 Axes>"
      ]
     },
     "metadata": {},
     "output_type": "display_data"
    }
   ],
   "source": [
    "sns.distplot(telecom_df['Start_ms'])"
   ]
  },
  {
   "cell_type": "code",
   "execution_count": 19,
   "metadata": {},
   "outputs": [
    {
     "data": {
      "text/plain": [
       "<Axes: xlabel='Avg_RTT_DL_(ms)', ylabel='Density'>"
      ]
     },
     "execution_count": 19,
     "metadata": {},
     "output_type": "execute_result"
    },
    {
     "data": {
      "image/png": "[encoded data removed]",
      "text/plain": [
       "<Figure size 640x480 with 1 Axes>"
      ]
     },
     "metadata": {},
     "output_type": "display_data"
    }
   ],
   "source": [
    "sns.distplot(telecom_df['Avg_RTT_DL_(ms)'])"
   ]
  },
  {
   "cell_type": "code",
   "execution_count": 20,
   "metadata": {},
   "outputs": [
    {
     "data": {
      "text/plain": [
       "<Axes: xlabel='UL_TP_<_10_Kbps_(%)', ylabel='Density'>"
      ]
     },
     "execution_count": 20,
     "metadata": {},
     "output_type": "execute_result"
    },
    {
     "data": {
      "image/png": "[encoded data removed]",
      "text/plain": [
       "<Figure size 640x480 with 1 Axes>"
      ]
     },
     "metadata": {},
     "output_type": "display_data"
    }
   ],
   "source": [
    "sns.distplot(telecom_df['UL_TP_<_10_Kbps_(%)'])"
   ]
  },
  {
   "cell_type": "markdown",
   "metadata": {},
   "source": [
    "Spearation on Skewed column and unskewed column"
   ]
  },
  {
   "cell_type": "code",
   "execution_count": 21,
   "metadata": {},
   "outputs": [],
   "source": [
    "skewed_numeric_columns = list(telecom_df[numeric_columns].skew(axis=0, skipna=True)\n",
    "                              .index[abs(telecom_df[numeric_columns].skew(axis=0, skipna=True)) > 0.50])\n",
    "\n",
    "unskewed_numeric_columns = list(telecom_df[numeric_columns].skew(axis=0, skipna=True)\n",
    "                                .index[(telecom_df[numeric_columns].skew(axis=0, skipna=True) >= -0.50) &\n",
    "                                       (telecom_df[numeric_columns].skew(axis=0, skipna=True) <= 0.50)])"
   ]
  },
  {
   "cell_type": "markdown",
   "metadata": {},
   "source": [
    "Filling missing values with Median and Mean for numerical columns"
   ]
  },
  {
   "cell_type": "code",
   "execution_count": 22,
   "metadata": {},
   "outputs": [],
   "source": [
    "# Skewed data to be filled using median which is a recommendation.\n",
    "telecom_df = cleaner.fill_missing_values_numeric(telecom_df, \"median\", skewed_numeric_columns)\n",
    "\n",
    "# Unskewed data(distributed) to be filled using mean which is recommeded. \n",
    "telecom_df = cleaner.fill_missing_values_numeric(telecom_df, \"mean\" , unskewed_numeric_columns)"
   ]
  },
  {
   "cell_type": "code",
   "execution_count": 23,
   "metadata": {},
   "outputs": [],
   "source": [
    "telecom_df = cleaner.fill_missing_values_categorical(telecom_df, \"mode\" )"
   ]
  },
  {
   "cell_type": "code",
   "execution_count": 26,
   "metadata": {},
   "outputs": [
    {
     "name": "stdout",
     "output_type": "stream",
     "text": [
      "<class 'pandas.core.frame.DataFrame'>\n",
      "RangeIndex: 150001 entries, 0 to 150000\n",
      "Data columns (total 55 columns):\n",
      " #   Column                                    Non-Null Count   Dtype         \n",
      "---  ------                                    --------------   -----         \n",
      " 0   Bearer_Id                                 150001 non-null  object        \n",
      " 1   Start                                     150001 non-null  datetime64[ns]\n",
      " 2   Start_ms                                  150001 non-null  float64       \n",
      " 3   End                                       150001 non-null  datetime64[ns]\n",
      " 4   End_ms                                    150001 non-null  float64       \n",
      " 5   Dur._(ms)                                 150001 non-null  float64       \n",
      " 6   IMSI                                      150001 non-null  object        \n",
      " 7   MSISDN/Number                             150001 non-null  object        \n",
      " 8   IMEI                                      150001 non-null  object        \n",
      " 9   Last_Location_Name                        150001 non-null  object        \n",
      " 10  Avg_RTT_DL_(ms)                           150001 non-null  float64       \n",
      " 11  Avg_RTT_UL_(ms)                           150001 non-null  float64       \n",
      " 12  Avg_Bearer_TP_DL_(kbps)                   150001 non-null  float64       \n",
      " 13  Avg_Bearer_TP_UL_(kbps)                   150001 non-null  float64       \n",
      " 14  TCP_DL_Retrans._Vol_(Bytes)               150001 non-null  float64       \n",
      " 15  TCP_UL_Retrans._Vol_(Bytes)               150001 non-null  float64       \n",
      " 16  DL_TP_<_50_Kbps_(%)                       150001 non-null  float64       \n",
      " 17  50_Kbps_<_DL_TP_<_250_Kbps_(%)            150001 non-null  float64       \n",
      " 18  250_Kbps_<_DL_TP_<_1_Mbps_(%)             150001 non-null  float64       \n",
      " 19  DL_TP_>_1_Mbps_(%)                        150001 non-null  float64       \n",
      " 20  UL_TP_<_10_Kbps_(%)                       150001 non-null  float64       \n",
      " 21  10_Kbps_<_UL_TP_<_50_Kbps_(%)             150001 non-null  float64       \n",
      " 22  50_Kbps_<_UL_TP_<_300_Kbps_(%)            150001 non-null  float64       \n",
      " 23  UL_TP_>_300_Kbps_(%)                      150001 non-null  float64       \n",
      " 24  HTTP_DL_(Bytes)                           150001 non-null  float64       \n",
      " 25  HTTP_UL_(Bytes)                           150001 non-null  float64       \n",
      " 26  Activity_Duration_DL_(ms)                 150001 non-null  float64       \n",
      " 27  Activity_Duration_UL_(ms)                 150001 non-null  float64       \n",
      " 28  Dur._(ms).1                               150001 non-null  float64       \n",
      " 29  Handset_Manufacturer                      150001 non-null  object        \n",
      " 30  Handset_Type                              150001 non-null  object        \n",
      " 31  Nb_of_sec_with_125000B_<_Vol_DL           150001 non-null  float64       \n",
      " 32  Nb_of_sec_with_1250B_<_Vol_UL_<_6250B     150001 non-null  float64       \n",
      " 33  Nb_of_sec_with_31250B_<_Vol_DL_<_125000B  150001 non-null  float64       \n",
      " 34  Nb_of_sec_with_37500B_<_Vol_UL            150001 non-null  float64       \n",
      " 35  Nb_of_sec_with_6250B_<_Vol_DL_<_31250B    150001 non-null  float64       \n",
      " 36  Nb_of_sec_with_6250B_<_Vol_UL_<_37500B    150001 non-null  float64       \n",
      " 37  Nb_of_sec_with_Vol_DL_<_6250B             150001 non-null  float64       \n",
      " 38  Nb_of_sec_with_Vol_UL_<_1250B             150001 non-null  float64       \n",
      " 39  Social_Media_DL_(Bytes)                   150001 non-null  float64       \n",
      " 40  Social_Media_UL_(Bytes)                   150001 non-null  float64       \n",
      " 41  Google_DL_(Bytes)                         150001 non-null  float64       \n",
      " 42  Google_UL_(Bytes)                         150001 non-null  float64       \n",
      " 43  Email_DL_(Bytes)                          150001 non-null  float64       \n",
      " 44  Email_UL_(Bytes)                          150001 non-null  float64       \n",
      " 45  Youtube_DL_(Bytes)                        150001 non-null  float64       \n",
      " 46  Youtube_UL_(Bytes)                        150001 non-null  float64       \n",
      " 47  Netflix_DL_(Bytes)                        150001 non-null  float64       \n",
      " 48  Netflix_UL_(Bytes)                        150001 non-null  float64       \n",
      " 49  Gaming_DL_(Bytes)                         150001 non-null  float64       \n",
      " 50  Gaming_UL_(Bytes)                         150001 non-null  float64       \n",
      " 51  Other_DL_(Bytes)                          150001 non-null  float64       \n",
      " 52  Other_UL_(Bytes)                          150001 non-null  float64       \n",
      " 53  Total_UL_(Bytes)                          150001 non-null  float64       \n",
      " 54  Total_DL_(Bytes)                          150001 non-null  float64       \n",
      "dtypes: datetime64[ns](2), float64(46), object(7)\n",
      "memory usage: 62.9+ MB\n"
     ]
    }
   ],
   "source": [
    "telecom_df.isnull().sum()"
   ]
  }
 ],
 "metadata": {
  "kernelspec": {
   "display_name": "my_env",
   "language": "python",
   "name": "python3"
  },
  "language_info": {
   "codemirror_mode": {
    "name": "ipython",
    "version": 3
   },
   "file_extension": ".py",
   "mimetype": "text/x-python",
   "name": "python",
   "nbconvert_exporter": "python",
   "pygments_lexer": "ipython3",
   "version": "3.10.12"
  }
 },
 "nbformat": 4,
 "nbformat_minor": 2
}
